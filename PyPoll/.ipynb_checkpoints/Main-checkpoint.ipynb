{
 "cells": [
  {
   "cell_type": "code",
   "execution_count": 29,
   "id": "e326066b",
   "metadata": {},
   "outputs": [],
   "source": [
    "import os\n",
    "import pandas as pd"
   ]
  },
  {
   "cell_type": "code",
   "execution_count": 30,
   "id": "db8484d2",
   "metadata": {},
   "outputs": [
    {
     "data": {
      "text/plain": [
       "\"\\nYour task is to create a Python script that analyzes the votes and calculates each of the following:\\n\\nThe total number of votes cast\\n\\nA complete list of candidates who received votes\\n\\nThe percentage of votes each candidate won\\n\\nThe total number of votes each candidate won\\n\\nThe winner of the election based on popular vote.\\n\\nEXAMPLE:\\nElection Results\\n-------------------------\\nTotal Votes: 3521001\\n-------------------------\\nKhan: 63.000% (2218231)\\nCorrey: 20.000% (704200)\\nLi: 14.000% (492940)\\nO'Tooley: 3.000% (105630)\\n-------------------------\\nWinner: Khan\\n-------------------------\\n\""
      ]
     },
     "execution_count": 30,
     "metadata": {},
     "output_type": "execute_result"
    }
   ],
   "source": [
    "\"\"\"\n",
    "Your task is to create a Python script that analyzes the votes and calculates each of the following:\n",
    "\n",
    "The total number of votes cast\n",
    "\n",
    "A complete list of candidates who received votes\n",
    "\n",
    "The percentage of votes each candidate won\n",
    "\n",
    "The total number of votes each candidate won\n",
    "\n",
    "The winner of the election based on popular vote.\n",
    "\n",
    "EXAMPLE:\n",
    "Election Results\n",
    "-------------------------\n",
    "Total Votes: 3521001\n",
    "-------------------------\n",
    "Khan: 63.000% (2218231)\n",
    "Correy: 20.000% (704200)\n",
    "Li: 14.000% (492940)\n",
    "O'Tooley: 3.000% (105630)\n",
    "-------------------------\n",
    "Winner: Khan\n",
    "-------------------------\n",
    "\"\"\""
   ]
  },
  {
   "cell_type": "code",
   "execution_count": 31,
   "id": "82096faf",
   "metadata": {},
   "outputs": [
    {
     "data": {
      "text/html": [
       "<div>\n",
       "<style scoped>\n",
       "    .dataframe tbody tr th:only-of-type {\n",
       "        vertical-align: middle;\n",
       "    }\n",
       "\n",
       "    .dataframe tbody tr th {\n",
       "        vertical-align: top;\n",
       "    }\n",
       "\n",
       "    .dataframe thead th {\n",
       "        text-align: right;\n",
       "    }\n",
       "</style>\n",
       "<table border=\"1\" class=\"dataframe\">\n",
       "  <thead>\n",
       "    <tr style=\"text-align: right;\">\n",
       "      <th></th>\n",
       "      <th>Voter ID</th>\n",
       "      <th>County</th>\n",
       "      <th>Candidate</th>\n",
       "    </tr>\n",
       "  </thead>\n",
       "  <tbody>\n",
       "    <tr>\n",
       "      <th>0</th>\n",
       "      <td>12864552</td>\n",
       "      <td>Marsh</td>\n",
       "      <td>Khan</td>\n",
       "    </tr>\n",
       "    <tr>\n",
       "      <th>1</th>\n",
       "      <td>17444633</td>\n",
       "      <td>Marsh</td>\n",
       "      <td>Correy</td>\n",
       "    </tr>\n",
       "    <tr>\n",
       "      <th>2</th>\n",
       "      <td>19330107</td>\n",
       "      <td>Marsh</td>\n",
       "      <td>Khan</td>\n",
       "    </tr>\n",
       "    <tr>\n",
       "      <th>3</th>\n",
       "      <td>19865775</td>\n",
       "      <td>Queen</td>\n",
       "      <td>Khan</td>\n",
       "    </tr>\n",
       "    <tr>\n",
       "      <th>4</th>\n",
       "      <td>11927875</td>\n",
       "      <td>Marsh</td>\n",
       "      <td>Khan</td>\n",
       "    </tr>\n",
       "  </tbody>\n",
       "</table>\n",
       "</div>"
      ],
      "text/plain": [
       "   Voter ID County Candidate\n",
       "0  12864552  Marsh      Khan\n",
       "1  17444633  Marsh    Correy\n",
       "2  19330107  Marsh      Khan\n",
       "3  19865775  Queen      Khan\n",
       "4  11927875  Marsh      Khan"
      ]
     },
     "execution_count": 31,
     "metadata": {},
     "output_type": "execute_result"
    }
   ],
   "source": [
    "df = pd.read_csv(\"Resources/election_data.csv\")\n",
    "df.head()"
   ]
  },
  {
   "cell_type": "code",
   "execution_count": 32,
   "id": "c68e74a8",
   "metadata": {},
   "outputs": [
    {
     "data": {
      "text/plain": [
       "3521001"
      ]
     },
     "execution_count": 32,
     "metadata": {},
     "output_type": "execute_result"
    }
   ],
   "source": [
    "totvotes = len(df)\n",
    "totvotes"
   ]
  },
  {
   "cell_type": "code",
   "execution_count": 33,
   "id": "d568f310",
   "metadata": {},
   "outputs": [
    {
     "data": {
      "text/plain": [
       "array(['Khan', 'Correy', 'Li', \"O'Tooley\"], dtype=object)"
      ]
     },
     "execution_count": 33,
     "metadata": {},
     "output_type": "execute_result"
    }
   ],
   "source": [
    "cand_tot = df[\"Candidate\"].unique()\n",
    "cand_tot"
   ]
  },
  {
   "cell_type": "code",
   "execution_count": 40,
   "id": "49f1b564",
   "metadata": {},
   "outputs": [
    {
     "data": {
      "text/plain": [
       "2218231"
      ]
     },
     "execution_count": 40,
     "metadata": {},
     "output_type": "execute_result"
    }
   ],
   "source": [
    "khan_tot = len(df[df[\"Candidate\"]==cand_tot[0]])\n",
    "khan_tot"
   ]
  },
  {
   "cell_type": "code",
   "execution_count": 41,
   "id": "b44009a2",
   "metadata": {},
   "outputs": [
    {
     "data": {
      "text/plain": [
       "704200"
      ]
     },
     "execution_count": 41,
     "metadata": {},
     "output_type": "execute_result"
    }
   ],
   "source": [
    "correy_tot = len(df[df[\"Candidate\"]==cand_tot[1]])\n",
    "correy_tot"
   ]
  },
  {
   "cell_type": "code",
   "execution_count": 42,
   "id": "1e04c99f",
   "metadata": {},
   "outputs": [
    {
     "data": {
      "text/plain": [
       "492940"
      ]
     },
     "execution_count": 42,
     "metadata": {},
     "output_type": "execute_result"
    }
   ],
   "source": [
    "li_tot = len(df[df[\"Candidate\"]==cand_tot[2]])\n",
    "li_tot"
   ]
  },
  {
   "cell_type": "code",
   "execution_count": 43,
   "id": "77732660",
   "metadata": {},
   "outputs": [
    {
     "data": {
      "text/plain": [
       "105630"
      ]
     },
     "execution_count": 43,
     "metadata": {},
     "output_type": "execute_result"
    }
   ],
   "source": [
    "tool_tot = len(df[df[\"Candidate\"]==cand_tot[3]])\n",
    "tool_tot"
   ]
  },
  {
   "cell_type": "code",
   "execution_count": 46,
   "id": "40213d23",
   "metadata": {},
   "outputs": [
    {
     "data": {
      "text/plain": [
       "63"
      ]
     },
     "execution_count": 46,
     "metadata": {},
     "output_type": "execute_result"
    }
   ],
   "source": [
    "khan_perc = round(khan_tot / totvotes *100)\n",
    "khan_perc"
   ]
  },
  {
   "cell_type": "code",
   "execution_count": 47,
   "id": "f360007f",
   "metadata": {},
   "outputs": [
    {
     "data": {
      "text/plain": [
       "20"
      ]
     },
     "execution_count": 47,
     "metadata": {},
     "output_type": "execute_result"
    }
   ],
   "source": [
    "correy_perc = round(correy_tot / totvotes *100)\n",
    "correy_perc"
   ]
  },
  {
   "cell_type": "code",
   "execution_count": 48,
   "id": "8f12d13f",
   "metadata": {},
   "outputs": [
    {
     "data": {
      "text/plain": [
       "14"
      ]
     },
     "execution_count": 48,
     "metadata": {},
     "output_type": "execute_result"
    }
   ],
   "source": [
    "li_perc = round(li_tot / totvotes *100)\n",
    "li_perc"
   ]
  },
  {
   "cell_type": "code",
   "execution_count": 49,
   "id": "c38a13e5",
   "metadata": {},
   "outputs": [
    {
     "data": {
      "text/plain": [
       "3"
      ]
     },
     "execution_count": 49,
     "metadata": {},
     "output_type": "execute_result"
    }
   ],
   "source": [
    "tool_perc = round(tool_tot / totvotes *100)\n",
    "tool_perc"
   ]
  },
  {
   "cell_type": "code",
   "execution_count": 79,
   "id": "a4d4db29",
   "metadata": {},
   "outputs": [
    {
     "data": {
      "text/plain": [
       "'Khan'"
      ]
     },
     "execution_count": 79,
     "metadata": {},
     "output_type": "execute_result"
    }
   ],
   "source": [
    "winner = df[\"Candidate\"].mode()\n",
    "winner[0]"
   ]
  },
  {
   "cell_type": "code",
   "execution_count": 63,
   "id": "1187fcba",
   "metadata": {},
   "outputs": [
    {
     "data": {
      "text/plain": [
       "\"\\nElection Results\\n-------------------------\\nTotal Votes: 3521001\\n-------------------------\\nKhan: 63.000% (2218231)\\nCorrey: 20.000% (704200)\\nLi: 14.000% (492940)\\nO'Tooley: 3.000% (105630)\\n-------------------------\\nWinner: Khan\\n-------------------------\\n\""
      ]
     },
     "execution_count": 63,
     "metadata": {},
     "output_type": "execute_result"
    }
   ],
   "source": [
    "\"\"\"\n",
    "Election Results\n",
    "-------------------------\n",
    "Total Votes: 3521001\n",
    "-------------------------\n",
    "Khan: 63.000% (2218231)\n",
    "Correy: 20.000% (704200)\n",
    "Li: 14.000% (492940)\n",
    "O'Tooley: 3.000% (105630)\n",
    "-------------------------\n",
    "Winner: Khan\n",
    "-------------------------\n",
    "\"\"\""
   ]
  },
  {
   "cell_type": "code",
   "execution_count": 82,
   "id": "64e6ee60",
   "metadata": {},
   "outputs": [
    {
     "name": "stdout",
     "output_type": "stream",
     "text": [
      "Election Results\n",
      "-------------------------\n",
      "Total Votes: 3521001\n",
      "-------------------------\n",
      "Khan: 63%(2218231)\n",
      "Correy: 20%(704200)\n",
      "Li: 14%(492940)\n",
      "O'Tooley: 3%(105630)\n",
      "-------------------------\n",
      "Winner: Khan\n"
     ]
    }
   ],
   "source": [
    "print(\"Election Results\")\n",
    "print(\"-------------------------\")\n",
    "print(\"Total Votes: \" + str(totvotes))\n",
    "print(\"-------------------------\")\n",
    "print(\"Khan: \" + str(khan_perc) + \"%\" + \"(\" + str(khan_tot) + \")\")\n",
    "print(\"Correy: \" + str(correy_perc) + \"%\" + \"(\" + str(correy_tot) + \")\")\n",
    "print(\"Li: \" + str(li_perc) + \"%\" + \"(\" + str(li_tot) + \")\")\n",
    "print(\"O'Tooley: \" + str(tool_perc) + \"%\" + \"(\" + str(tool_tot) + \")\")\n",
    "print(\"-------------------------\")\n",
    "print(\"Winner: \" + winner[0])"
   ]
  },
  {
   "cell_type": "code",
   "execution_count": null,
   "id": "9d36b0e1",
   "metadata": {},
   "outputs": [],
   "source": []
  }
 ],
 "metadata": {
  "kernelspec": {
   "display_name": "Python 3 (ipykernel)",
   "language": "python",
   "name": "python3"
  },
  "language_info": {
   "codemirror_mode": {
    "name": "ipython",
    "version": 3
   },
   "file_extension": ".py",
   "mimetype": "text/x-python",
   "name": "python",
   "nbconvert_exporter": "python",
   "pygments_lexer": "ipython3",
   "version": "3.9.7"
  }
 },
 "nbformat": 4,
 "nbformat_minor": 5
}
